{
 "cells": [
  {
   "cell_type": "code",
   "execution_count": 1,
   "metadata": {},
   "outputs": [
    {
     "name": "stderr",
     "output_type": "stream",
     "text": [
      "c:\\Users\\ryoii\\anaconda3\\lib\\site-packages\\pandas\\core\\computation\\expressions.py:21: UserWarning: Pandas requires version '2.8.4' or newer of 'numexpr' (version '2.8.1' currently installed).\n",
      "  from pandas.core.computation.check import NUMEXPR_INSTALLED\n",
      "c:\\Users\\ryoii\\anaconda3\\lib\\site-packages\\pandas\\core\\arrays\\masked.py:60: UserWarning: Pandas requires version '1.3.6' or newer of 'bottleneck' (version '1.3.4' currently installed).\n",
      "  from pandas.core import (\n"
     ]
    }
   ],
   "source": [
    "# import libraries\n",
    "import numpy as np\n",
    "import pandas as pd\n",
    "import seaborn as sns\n",
    "import os\n",
    "import mne\n",
    "from tqdm import tqdm\n",
    "from sklearn.preprocessing import StandardScaler\n",
    "from sklearn.ensemble import RandomForestClassifier\n",
    "from sklearn.model_selection import train_test_split, GridSearchCV, cross_val_score, StratifiedKFold\n",
    "from sklearn.metrics import accuracy_score,confusion_matrix, classification_report\n",
    "import tensorflow\n",
    "from tensorflow.keras.models import Sequential, Model, load_model\n",
    "from tensorflow.keras.utils import plot_model, to_categorical\n",
    "from tensorflow.keras.layers import Dense, Activation, Conv1D, MaxPooling1D, GlobalAveragePooling1D, Flatten, Dropout, BatchNormalization, Input,UpSampling1D\n",
    "from tensorflow.keras.layers import concatenate, Lambda, Conv2D, MaxPooling2D, GlobalAveragePooling2D,LSTM\n",
    "from tensorflow.keras import backend as K\n",
    "from tensorflow.keras.callbacks import EarlyStopping\n",
    "import matplotlib.pyplot as plt\n",
    "from scipy.signal import butter, filtfilt, welch"
   ]
  },
  {
   "cell_type": "code",
   "execution_count": 2,
   "metadata": {},
   "outputs": [
    {
     "name": "stdout",
     "output_type": "stream",
     "text": [
      "Updated Working Directory:  c:\\Users\\ryoii\\Desktop\\EEG2IMAGE\n"
     ]
    }
   ],
   "source": [
    "# path config\n",
    "parent_dir = os.path.dirname(os.getcwd())\n",
    "os.chdir(parent_dir)\n",
    "print(\"Updated Working Directory: \", os.getcwd())"
   ]
  },
  {
   "cell_type": "code",
   "execution_count": 3,
   "metadata": {},
   "outputs": [],
   "source": [
    "from __00_load_csv import load_alphabet, load_digit, load_object\n",
    "from __01_transform_data import transform_eeg_data, process_band, MA_X, MA_X2\n",
    "from __02_model import train, visualize\n",
    "from __03_utils import plot_eeg, downsample, plot_eeg_1280"
   ]
  },
  {
   "cell_type": "code",
   "execution_count": 4,
   "metadata": {},
   "outputs": [],
   "source": [
    "def apply_bandpass_filter(data, sampling_rate, low_cutoff, high_cutoff):\n",
    "    \"\"\"\n",
    "    Apply a bandpass filter to 3D EEG data.\n",
    "    \n",
    "    Parameters:\n",
    "        data (numpy.ndarray): Input EEG data of shape (n_samples, n_channels, n_points).\n",
    "        sampling_rate (float): Sampling frequency of the data (in Hz).\n",
    "        low_cutoff (float): Low cutoff frequency for the bandpass filter (in Hz).\n",
    "        high_cutoff (float): High cutoff frequency for the bandpass filter (in Hz).\n",
    "\n",
    "    Returns:\n",
    "        numpy.ndarray: Filtered EEG data of the same shape as the input.\n",
    "    \"\"\"\n",
    "    # Design a Butterworth bandpass filter\n",
    "    nyquist = 0.5 * sampling_rate\n",
    "    normalized_low = low_cutoff / nyquist\n",
    "    normalized_high = high_cutoff / nyquist\n",
    "    b, a = butter(N=4, Wn=[normalized_low, normalized_high], btype='band', analog=False)\n",
    "\n",
    "    # Apply the filter to each channel\n",
    "    filtered_data = np.zeros_like(data)\n",
    "    for sample_idx in range(data.shape[0]):\n",
    "        for channel_idx in range(data.shape[1]):\n",
    "            filtered_data[sample_idx, channel_idx, :] = filtfilt(b, a, data[sample_idx, channel_idx, :])\n",
    "\n",
    "    return filtered_data"
   ]
  },
  {
   "cell_type": "code",
   "execution_count": 5,
   "metadata": {},
   "outputs": [],
   "source": [
    "def plot_eeg_signal(X, channel_index, sample_limit=200):\n",
    "    \"\"\"\n",
    "    Plot the EEG signal for a specific channel.\n",
    "\n",
    "    Parameters:\n",
    "    X (numpy.ndarray): The feature matrix of shape (230, 14, 1280).\n",
    "    channel_index (int): The index of the channel to visualize (0-13).\n",
    "    sample_limit (int): The number of samples to plot on the x-axis (default is 200).\n",
    "    \"\"\"\n",
    "    if channel_index < 0 or channel_index >= X.shape[1]:\n",
    "        raise ValueError(\"Invalid channel index. Must be between 0 and 13.\")\n",
    "\n",
    "    # Select the first instance for visualization\n",
    "    signal = X[0, channel_index, :sample_limit]\n",
    "\n",
    "    # Plot the signal\n",
    "    plt.figure(figsize=(10, 5))\n",
    "    plt.plot(signal)\n",
    "    plt.title(f\"EEG Signal - Channel {channel_index}\")\n",
    "    plt.xlabel(\"Sample Number\")\n",
    "    plt.ylabel(\"Amplitude (\\u03bcV)\")\n",
    "    plt.grid(True)\n",
    "    plt.show()"
   ]
  },
  {
   "cell_type": "code",
   "execution_count": 6,
   "metadata": {},
   "outputs": [],
   "source": [
    "# preprocess - with edge padding\n",
    "def preprocess_eeg_data(X):\n",
    "    \"\"\"\n",
    "    Preprocess the EEG data using a moving average filter.\n",
    "\n",
    "    Parameters:\n",
    "        X (numpy.ndarray): Raw EEG data of shape (n_samples, n_channels, n_points).\n",
    "\n",
    "    Returns:\n",
    "        numpy.ndarray: Preprocessed EEG data of the same shape.\n",
    "    \"\"\"\n",
    "    def moving_average(signal, window_size=5):\n",
    "        # Pad edges to ensure proper filtering at the boundaries\n",
    "        padded_signal = np.pad(signal, pad_width=window_size//2, mode='edge')\n",
    "        smoothed_signal = np.convolve(padded_signal, np.ones(window_size) / window_size, mode='valid')\n",
    "        return smoothed_signal\n",
    "\n",
    "    X_preprocessed = np.zeros_like(X)\n",
    "    for i in range(X.shape[0]):\n",
    "        for j in range(X.shape[1]):\n",
    "            X_preprocessed[i, j, :] = moving_average(X[i, j, :])\n",
    "    return X_preprocessed"
   ]
  },
  {
   "cell_type": "code",
   "execution_count": 7,
   "metadata": {},
   "outputs": [],
   "source": [
    "def segment_eeg_data(X, Y, sampling_rate=128, segment_duration=0.05, overlap=0):\n",
    "    \"\"\"\n",
    "    Segment EEG data with a specified overlap percentage for fine-level classification.\n",
    "\n",
    "    Parameters:\n",
    "        X (numpy.ndarray): EEG data of shape (n_samples, n_channels, n_points).\n",
    "        Y (numpy.ndarray): Labels of shape (n_samples,).\n",
    "        sampling_rate (int): Sampling rate of the EEG data (Hz).\n",
    "        segment_duration (float): Duration of each segment in seconds.\n",
    "        overlap (float): Overlap between segments as a fraction (0 to 1).\n",
    "\n",
    "    Returns:\n",
    "        tuple: Segmented EEG data and expanded labels.\n",
    "    \"\"\"\n",
    "    segment_size = int(sampling_rate * segment_duration)  # Calculate segment size\n",
    "    step_size = int(segment_size * (1 - overlap))  # Calculate step size based on overlap\n",
    "    n_samples, n_channels, n_points = X.shape\n",
    "\n",
    "    if step_size <= 0:\n",
    "        raise ValueError(\"Overlap too large, step size must be greater than 0.\")\n",
    "    \n",
    "    # Calculate the number of segments per sample with the given overlap\n",
    "    n_segments = max(1, (n_points - segment_size) // step_size + 1)\n",
    "    \n",
    "    # Initialize arrays for segmented data\n",
    "    X_segmented = np.zeros((n_samples * n_segments, n_channels, segment_size))\n",
    "    Y_expanded = np.repeat(Y, n_segments)\n",
    "\n",
    "    for i in range(n_samples):\n",
    "        for j in range(n_segments):\n",
    "            start = j * step_size\n",
    "            end = start + segment_size\n",
    "            if end <= n_points:\n",
    "                X_segmented[i * n_segments + j, :, :] = X[i, :, start:end]\n",
    "\n",
    "    return X_segmented, Y_expanded\n"
   ]
  },
  {
   "cell_type": "code",
   "execution_count": 8,
   "metadata": {},
   "outputs": [],
   "source": [
    "def extract_features(X_segmented):\n",
    "    \"\"\"\n",
    "    Extract features (SD, RMS, SUM, E) from segmented EEG data.\n",
    "\n",
    "    Parameters:\n",
    "        X_segmented (numpy.ndarray): Segmented EEG data.\n",
    "\n",
    "    Returns:\n",
    "        numpy.ndarray: Feature matrix of shape (n_segments, n_channels * 4).\n",
    "    \"\"\"\n",
    "    n_segments, n_channels, segment_size = X_segmented.shape\n",
    "    feature_matrix = np.zeros((n_segments, n_channels * 5))\n",
    "    for i in range(n_segments):\n",
    "        for j in range(n_channels):\n",
    "            segment = X_segmented[i, j, :]\n",
    "            psd, _ = welch(segment, fs=128, nperseg=segment_size)\n",
    "\n",
    "            feature_matrix[i, j * 4] = np.std(segment)  # Standard Deviation (SD)\n",
    "            feature_matrix[i, j * 4 + 1] = np.sqrt(np.mean(segment ** 2))  # Root Mean Square (RMS)\n",
    "            feature_matrix[i, j * 4 + 2] = np.sum(segment)  # Sum (SUM)\n",
    "            feature_matrix[i, j * 4 + 3] = np.sum(segment ** 2)  # Energy (E)\n",
    "            feature_matrix[i, j * 5 + 4] = np.mean(psd)  # Average PSD\n",
    "    return feature_matrix\n"
   ]
  },
  {
   "cell_type": "code",
   "execution_count": 9,
   "metadata": {},
   "outputs": [],
   "source": [
    "def train_evaluate_classifier(X, Y, fine_level_class=None):\n",
    "    \"\"\"\n",
    "    Train and evaluate a Random Forest classifier using stratified 10-fold cross-validation\n",
    "    for fine-level classification based on class type (digits, characters, or objects).\n",
    "    Also visualizes feature importance.\n",
    "\n",
    "    Parameters:\n",
    "        X (numpy.ndarray): Feature matrix.\n",
    "        Y (numpy.ndarray): Labels array.\n",
    "        fine_level_class (str): Type of fine classification (\"digits\", \"characters\", or \"objects\").\n",
    "\n",
    "    Returns:\n",
    "        None\n",
    "    \"\"\"\n",
    "    # Set number of trees based on fine-level class\n",
    "    if fine_level_class == \"digits\":\n",
    "        n_trees = 40\n",
    "    elif fine_level_class == \"characters\":\n",
    "        n_trees = 23\n",
    "    elif fine_level_class == \"objects\":\n",
    "        n_trees = 36\n",
    "    else:\n",
    "        raise ValueError(\"Invalid fine_level_class. Choose from 'digits', 'characters', or 'objects'.\")\n",
    "\n",
    "    # Initialize the classifier with class weights\n",
    "    rf_clf = RandomForestClassifier(\n",
    "        n_estimators=n_trees,\n",
    "        criterion='gini',\n",
    "        random_state=42,\n",
    "        class_weight='balanced'  # Automatically handles class imbalance\n",
    "    )\n",
    "\n",
    "    # Perform stratified 10-fold cross-validation\n",
    "    skf = StratifiedKFold(n_splits=10, shuffle=True, random_state=42)\n",
    "    all_y_true = []\n",
    "    all_y_pred = []\n",
    "\n",
    "    for train_index, test_index in skf.split(X, Y):\n",
    "        # Split data into training and test sets for this fold\n",
    "        X_train, X_test = X[train_index], X[test_index]\n",
    "        Y_train, Y_test = Y[train_index], Y[test_index]\n",
    "\n",
    "        # Train the classifier\n",
    "        rf_clf.fit(X_train, Y_train)\n",
    "\n",
    "        # Predict on the test set\n",
    "        Y_pred = rf_clf.predict(X_test)\n",
    "\n",
    "        # Store predictions and true labels\n",
    "        all_y_true.extend(Y_test)\n",
    "        all_y_pred.extend(Y_pred)\n",
    "\n",
    "    # Evaluate overall performance\n",
    "    print(f\"Cross-Validation Accuracy ({fine_level_class}):\", accuracy_score(all_y_true, all_y_pred))\n",
    "    print(f\"Classification Report ({fine_level_class}):\\n\", classification_report(all_y_true, all_y_pred))\n",
    "\n",
    "    # Feature Importance\n",
    "    feature_importances = rf_clf.feature_importances_\n",
    "\n",
    "    # Dynamically create feature names\n",
    "    feature_types = [\n",
    "                \"sd\", \"rms\", \"sum_\", \"energy\", \"kurt\", \"skewness\", \"activity\", \"mobility\", \n",
    "                \"complexity\"\n",
    "            ]  # Update with all feature types you use\n",
    "    n_features_per_channel = len(feature_types)\n",
    "    n_channels = X.shape[1] // n_features_per_channel\n",
    "\n",
    "    # Calculate average importance for each feature type\n",
    "    avg_importance_by_type = {ft: 0 for ft in feature_types}\n",
    "    for i, ft in enumerate(feature_types):\n",
    "        avg_importance_by_type[ft] = np.mean(feature_importances[i::n_features_per_channel])\n",
    "\n",
    "    # Plot average importance by feature type\n",
    "    plt.figure(figsize=(8, 4))\n",
    "    plt.bar(avg_importance_by_type.keys(), avg_importance_by_type.values())\n",
    "    plt.xlabel(\"Feature Type\")\n",
    "    plt.ylabel(\"Average Importance\")\n",
    "    plt.title(\"Average Feature Importance by Type\")\n",
    "    plt.tight_layout()\n",
    "    plt.show()\n",
    "\n",
    "    # Print the values for reference\n",
    "    for ft, importance in avg_importance_by_type.items():\n",
    "        print(f\"Average Importance for {ft}: {importance:.4f}\")\n",
    "\n",
    "\n"
   ]
  },
  {
   "cell_type": "code",
   "execution_count": 10,
   "metadata": {},
   "outputs": [],
   "source": [
    "# # load raw data\n",
    "# fo = os.path.join(parent_dir, 'data', 'Vie2Image', 'Char')\n",
    "\n",
    "# X, Y = load_alphabet(fo) # (220, 2, 6000)\n",
    "# X = downsample(X)\n",
    "# X_filtered = apply_bandpass_filter(X, sampling_rate=600, low_cutoff=1, high_cutoff=64)\n",
    "# plot_eeg_signal(X_filtered, sample_limit=200, channel_index=0)\n",
    "# X_preprocessed = preprocess_eeg_data(X_filtered) # (220, 2, 1280)\n",
    "# plot_eeg_signal(X_preprocessed, sample_limit=200, channel_index=0)\n",
    "# X_segmented, Y_expanded = segment_eeg_data(X_preprocessed, Y, sampling_rate=128, segment_duration=0.05, overlap=0) #(46860, 2, 6) (220000,)\n",
    "# plot_eeg_signal(X_segmented, sample_limit=200, channel_index=0)\n",
    "# X_features = extract_features(X_segmented) # (46860, 10)\n",
    "# train_evaluate_classifier(X_features, Y_expanded, fine_level_class='characters')"
   ]
  },
  {
   "cell_type": "code",
   "execution_count": 11,
   "metadata": {},
   "outputs": [
    {
     "name": "stderr",
     "output_type": "stream",
     "text": [
      "Downsampling EEG Data: 100%|██████████| 220/220 [00:00<00:00, 4822.88it/s]\n"
     ]
    },
    {
     "data": {
      "image/png": "[encoded data removed]",
      "text/plain": [
       "<Figure size 720x360 with 1 Axes>"
      ]
     },
     "metadata": {
      "needs_background": "light"
     },
     "output_type": "display_data"
    },
    {
     "data": {
      "image/png": "[encoded data removed]",
      "text/plain": [
       "<Figure size 720x360 with 1 Axes>"
      ]
     },
     "metadata": {
      "needs_background": "light"
     },
     "output_type": "display_data"
    },
    {
     "data": {
      "image/png": "[encoded data removed]",
      "text/plain": [
       "<Figure size 720x360 with 1 Axes>"
      ]
     },
     "metadata": {
      "needs_background": "light"
     },
     "output_type": "display_data"
    }
   ],
   "source": [
    "# load raw data\n",
    "fo = os.path.join(parent_dir, 'data', 'Vie2Image', 'Digit')\n",
    "\n",
    "X, Y = load_digit(fo) # (220, 2, 6000)\n",
    "X = downsample(X)\n",
    "X_filtered = apply_bandpass_filter(X, sampling_rate=600, low_cutoff=1, high_cutoff=64)\n",
    "plot_eeg_signal(X_filtered, sample_limit=200, channel_index=0)\n",
    "X_preprocessed = preprocess_eeg_data(X_filtered) # (220, 2, 6000)\n",
    "plot_eeg_signal(X_preprocessed, sample_limit=200, channel_index=0)\n",
    "X_segmented, Y_expanded = segment_eeg_data(X_preprocessed, Y, sampling_rate=128, segment_duration=0.05, overlap=0.5) #(220000, 2, 6) (220000,)\n",
    "plot_eeg_signal(X_segmented, sample_limit=200, channel_index=0)\n",
    "X_features = extract_features(X_segmented) # (46860, 10)\n",
    "# train_evaluate_classifier(X_features, Y_expanded, fine_level_class='digits')"
   ]
  },
  {
   "cell_type": "code",
   "execution_count": 12,
   "metadata": {},
   "outputs": [],
   "source": [
    "# # load raw data\n",
    "# fo = os.path.join(parent_dir, 'data', 'Vie2Image', 'Image')\n",
    "\n",
    "# X, Y = load_object(fo) # (220, 2, 6000)\n",
    "# X = downsample(X)\n",
    "# X_filtered = apply_bandpass_filter(X, sampling_rate=600, low_cutoff=1, high_cutoff=64)\n",
    "# plot_eeg_signal(X_filtered, sample_limit=200, channel_index=0)\n",
    "# X_preprocessed = preprocess_eeg_data(X_filtered) # (220, 2, 6000)\n",
    "# plot_eeg_signal(X_preprocessed, sample_limit=200, channel_index=0)\n",
    "# X_segmented, Y_expanded = segment_eeg_data(X_preprocessed, Y, sampling_rate=128, segment_duration=0.05, overlap=0.5) #(220000, 2, 6) (220000,)\n",
    "# plot_eeg_signal(X_segmented, sample_limit=200, channel_index=0)\n",
    "# X_features = extract_features(X_segmented) # (46860, 10)\n",
    "# train_evaluate_classifier(X_features, Y_expanded, fine_level_class='objects')"
   ]
  },
  {
   "cell_type": "code",
   "execution_count": 13,
   "metadata": {},
   "outputs": [
    {
     "name": "stdout",
     "output_type": "stream",
     "text": [
      "(230, 14, 1280)\n"
     ]
    }
   ],
   "source": [
    "import pickle\n",
    "with open(\"X_features_emotiv_digit.pkl\", 'rb') as f:\n",
    "    data = pickle.load(f)\n",
    "X_emotiv, y_emotiv = data['x_processed'], data['y_raw']\n",
    "print(X_emotiv.shape)"
   ]
  },
  {
   "cell_type": "code",
   "execution_count": 19,
   "metadata": {},
   "outputs": [
    {
     "name": "stdout",
     "output_type": "stream",
     "text": [
      "Original Vie shape: (220, 2, 1280)\n",
      "Upsampled Vie shape: (220, 14, 1280)\n",
      "(220, 14, 1280)\n",
      "(230, 14, 1280)\n"
     ]
    }
   ],
   "source": [
    "import numpy as np\n",
    "\n",
    "# Assume Vie dataset shape: (220, 2, 1280)\n",
    "# Assume Emotiv dataset shape: (230, 14, 1280)\n",
    "\n",
    "def upsample_vie_channels(vie_data, target_channels):\n",
    "    \"\"\"\n",
    "    Upsample Vie dataset to match the target number of channels.\n",
    "    :param vie_data: Original Vie dataset (instances, channels, data points).\n",
    "    :param target_channels: Number of channels to upsample to.\n",
    "    :return: Upsampled Vie dataset.\n",
    "    \"\"\"\n",
    "    instances, original_channels, data_points = vie_data.shape\n",
    "    upsampled_data = np.zeros((instances, target_channels, data_points))\n",
    "\n",
    "    # Duplicate existing channels to match target channels\n",
    "    for i in range(target_channels):\n",
    "        upsampled_data[:, i, :] = vie_data[:, i % original_channels, :]\n",
    "    \n",
    "    return upsampled_data\n",
    "\n",
    "# Upsample Vie dataset to 14 channels\n",
    "X_vie_upsampled = upsample_vie_channels(X_filtered, target_channels=14)\n",
    "print(\"Original Vie shape:\", X_filtered.shape)\n",
    "print(\"Upsampled Vie shape:\", X_vie_upsampled.shape)\n",
    "X_preprocessed = preprocess_eeg_data(X_vie_upsampled)\n",
    "\n",
    "print(X_preprocessed.shape)\n",
    "print(X_emotiv.shape)\n"
   ]
  },
  {
   "cell_type": "code",
   "execution_count": null,
   "metadata": {},
   "outputs": [
    {
     "name": "stdout",
     "output_type": "stream",
     "text": [
      "Epoch 1/20\n"
     ]
    },
    {
     "name": "stderr",
     "output_type": "stream",
     "text": [
      "c:\\Users\\ryoii\\anaconda3\\lib\\site-packages\\keras\\src\\layers\\convolutional\\base_conv.py:107: UserWarning: Do not pass an `input_shape`/`input_dim` argument to a layer. When using Sequential models, prefer using an `Input(shape)` object as the first layer in the model instead.\n",
      "  super().__init__(activity_regularizer=activity_regularizer, **kwargs)\n"
     ]
    },
    {
     "name": "stdout",
     "output_type": "stream",
     "text": [
      "\u001b[1m6/6\u001b[0m \u001b[32m━━━━━━━━━━━━━━━━━━━━\u001b[0m\u001b[37m\u001b[0m \u001b[1m3s\u001b[0m 77ms/step - accuracy: 0.0542 - loss: 2.5083 - val_accuracy: 0.1087 - val_loss: 2.3638\n",
      "Epoch 2/20\n",
      "\u001b[1m6/6\u001b[0m \u001b[32m━━━━━━━━━━━━━━━━━━━━\u001b[0m\u001b[37m\u001b[0m \u001b[1m0s\u001b[0m 20ms/step - accuracy: 0.1015 - loss: 2.5299 - val_accuracy: 0.0870 - val_loss: 2.3695\n",
      "Epoch 3/20\n",
      "\u001b[1m6/6\u001b[0m \u001b[32m━━━━━━━━━━━━━━━━━━━━\u001b[0m\u001b[37m\u001b[0m \u001b[1m0s\u001b[0m 21ms/step - accuracy: 0.0584 - loss: 2.4542 - val_accuracy: 0.0870 - val_loss: 2.3535\n",
      "Epoch 4/20\n",
      "\u001b[1m6/6\u001b[0m \u001b[32m━━━━━━━━━━━━━━━━━━━━\u001b[0m\u001b[37m\u001b[0m \u001b[1m0s\u001b[0m 21ms/step - accuracy: 0.1015 - loss: 2.3879 - val_accuracy: 0.1087 - val_loss: 2.3298\n",
      "Epoch 5/20\n",
      "\u001b[1m6/6\u001b[0m \u001b[32m━━━━━━━━━━━━━━━━━━━━\u001b[0m\u001b[37m\u001b[0m \u001b[1m0s\u001b[0m 22ms/step - accuracy: 0.0792 - loss: 2.3961 - val_accuracy: 0.1087 - val_loss: 2.3072\n",
      "Epoch 6/20\n",
      "\u001b[1m6/6\u001b[0m \u001b[32m━━━━━━━━━━━━━━━━━━━━\u001b[0m\u001b[37m\u001b[0m \u001b[1m0s\u001b[0m 19ms/step - accuracy: 0.0619 - loss: 2.4177 - val_accuracy: 0.1087 - val_loss: 2.3096\n",
      "Epoch 7/20\n",
      "\u001b[1m6/6\u001b[0m \u001b[32m━━━━━━━━━━━━━━━━━━━━\u001b[0m\u001b[37m\u001b[0m \u001b[1m0s\u001b[0m 22ms/step - accuracy: 0.1023 - loss: 2.4064 - val_accuracy: 0.1087 - val_loss: 2.3088\n",
      "Epoch 8/20\n",
      "\u001b[1m6/6\u001b[0m \u001b[32m━━━━━━━━━━━━━━━━━━━━\u001b[0m\u001b[37m\u001b[0m \u001b[1m0s\u001b[0m 21ms/step - accuracy: 0.1332 - loss: 2.3329 - val_accuracy: 0.1087 - val_loss: 2.3106\n",
      "Epoch 9/20\n",
      "\u001b[1m6/6\u001b[0m \u001b[32m━━━━━━━━━━━━━━━━━━━━\u001b[0m\u001b[37m\u001b[0m \u001b[1m0s\u001b[0m 21ms/step - accuracy: 0.1162 - loss: 2.3696 - val_accuracy: 0.0870 - val_loss: 2.3133\n",
      "Epoch 10/20\n",
      "\u001b[1m6/6\u001b[0m \u001b[32m━━━━━━━━━━━━━━━━━━━━\u001b[0m\u001b[37m\u001b[0m \u001b[1m0s\u001b[0m 20ms/step - accuracy: 0.0921 - loss: 2.3535 - val_accuracy: 0.1087 - val_loss: 2.3132\n",
      "Epoch 11/20\n",
      "\u001b[1m6/6\u001b[0m \u001b[32m━━━━━━━━━━━━━━━━━━━━\u001b[0m\u001b[37m\u001b[0m \u001b[1m0s\u001b[0m 20ms/step - accuracy: 0.1526 - loss: 2.3205 - val_accuracy: 0.1087 - val_loss: 2.3097\n",
      "Epoch 12/20\n",
      "\u001b[1m6/6\u001b[0m \u001b[32m━━━━━━━━━━━━━━━━━━━━\u001b[0m\u001b[37m\u001b[0m \u001b[1m0s\u001b[0m 18ms/step - accuracy: 0.0978 - loss: 2.3559 - val_accuracy: 0.0870 - val_loss: 2.3056\n",
      "Epoch 13/20\n",
      "\u001b[1m6/6\u001b[0m \u001b[32m━━━━━━━━━━━━━━━━━━━━\u001b[0m\u001b[37m\u001b[0m \u001b[1m0s\u001b[0m 20ms/step - accuracy: 0.1158 - loss: 2.2947 - val_accuracy: 0.1087 - val_loss: 2.3061\n",
      "Epoch 14/20\n",
      "\u001b[1m6/6\u001b[0m \u001b[32m━━━━━━━━━━━━━━━━━━━━\u001b[0m\u001b[37m\u001b[0m \u001b[1m0s\u001b[0m 20ms/step - accuracy: 0.0952 - loss: 2.3363 - val_accuracy: 0.0870 - val_loss: 2.3094\n",
      "Epoch 15/20\n",
      "\u001b[1m6/6\u001b[0m \u001b[32m━━━━━━━━━━━━━━━━━━━━\u001b[0m\u001b[37m\u001b[0m \u001b[1m0s\u001b[0m 19ms/step - accuracy: 0.1024 - loss: 2.3353 - val_accuracy: 0.0870 - val_loss: 2.3231\n",
      "Epoch 16/20\n",
      "\u001b[1m6/6\u001b[0m \u001b[32m━━━━━━━━━━━━━━━━━━━━\u001b[0m\u001b[37m\u001b[0m \u001b[1m0s\u001b[0m 20ms/step - accuracy: 0.0912 - loss: 2.3218 - val_accuracy: 0.1087 - val_loss: 2.3099\n",
      "Epoch 17/20\n",
      "\u001b[1m6/6\u001b[0m \u001b[32m━━━━━━━━━━━━━━━━━━━━\u001b[0m\u001b[37m\u001b[0m \u001b[1m0s\u001b[0m 20ms/step - accuracy: 0.1215 - loss: 2.3058 - val_accuracy: 0.1087 - val_loss: 2.3138\n",
      "Epoch 18/20\n",
      "\u001b[1m6/6\u001b[0m \u001b[32m━━━━━━━━━━━━━━━━━━━━\u001b[0m\u001b[37m\u001b[0m \u001b[1m0s\u001b[0m 22ms/step - accuracy: 0.1146 - loss: 2.3149 - val_accuracy: 0.0870 - val_loss: 2.3161\n",
      "Epoch 19/20\n",
      "\u001b[1m6/6\u001b[0m \u001b[32m━━━━━━━━━━━━━━━━━━━━\u001b[0m\u001b[37m\u001b[0m \u001b[1m0s\u001b[0m 23ms/step - accuracy: 0.1492 - loss: 2.2887 - val_accuracy: 0.1087 - val_loss: 2.3204\n",
      "Epoch 20/20\n",
      "\u001b[1m6/6\u001b[0m \u001b[32m━━━━━━━━━━━━━━━━━━━━\u001b[0m\u001b[37m\u001b[0m \u001b[1m0s\u001b[0m 22ms/step - accuracy: 0.0837 - loss: 2.3200 - val_accuracy: 0.0870 - val_loss: 2.3216\n"
     ]
    },
    {
     "name": "stderr",
     "output_type": "stream",
     "text": [
      "WARNING:absl:You are saving your model as an HDF5 file via `model.save()` or `keras.saving.save_model(model)`. This file format is considered legacy. We recommend using instead the native Keras format, e.g. `model.save('my_model.keras')` or `keras.saving.save_model(model, 'my_model.keras')`. \n",
      "WARNING:absl:Compiled the loaded model, but the compiled metrics have yet to be built. `model.compile_metrics` will be empty until you train or evaluate the model.\n"
     ]
    },
    {
     "name": "stdout",
     "output_type": "stream",
     "text": [
      "Epoch 1/10\n",
      "\u001b[1m6/6\u001b[0m \u001b[32m━━━━━━━━━━━━━━━━━━━━\u001b[0m\u001b[37m\u001b[0m \u001b[1m2s\u001b[0m 73ms/step - accuracy: 0.1060 - loss: 2.3981 - val_accuracy: 0.0682 - val_loss: 2.5270\n",
      "Epoch 2/10\n",
      "\u001b[1m6/6\u001b[0m \u001b[32m━━━━━━━━━━━━━━━━━━━━\u001b[0m\u001b[37m\u001b[0m \u001b[1m0s\u001b[0m 14ms/step - accuracy: 0.1401 - loss: 2.4342 - val_accuracy: 0.0455 - val_loss: 2.5263\n",
      "Epoch 3/10\n",
      "\u001b[1m6/6\u001b[0m \u001b[32m━━━━━━━━━━━━━━━━━━━━\u001b[0m\u001b[37m\u001b[0m \u001b[1m0s\u001b[0m 15ms/step - accuracy: 0.0983 - loss: 2.4156 - val_accuracy: 0.0455 - val_loss: 2.5261\n",
      "Epoch 4/10\n",
      "\u001b[1m6/6\u001b[0m \u001b[32m━━━━━━━━━━━━━━━━━━━━\u001b[0m\u001b[37m\u001b[0m \u001b[1m0s\u001b[0m 19ms/step - accuracy: 0.1236 - loss: 2.3634 - val_accuracy: 0.0455 - val_loss: 2.5251\n",
      "Epoch 5/10\n",
      "\u001b[1m6/6\u001b[0m \u001b[32m━━━━━━━━━━━━━━━━━━━━\u001b[0m\u001b[37m\u001b[0m \u001b[1m0s\u001b[0m 15ms/step - accuracy: 0.0927 - loss: 2.4022 - val_accuracy: 0.0227 - val_loss: 2.5237\n",
      "Epoch 6/10\n",
      "\u001b[1m6/6\u001b[0m \u001b[32m━━━━━━━━━━━━━━━━━━━━\u001b[0m\u001b[37m\u001b[0m \u001b[1m0s\u001b[0m 16ms/step - accuracy: 0.1064 - loss: 2.4537 - val_accuracy: 0.0227 - val_loss: 2.5231\n",
      "Epoch 7/10\n",
      "\u001b[1m6/6\u001b[0m \u001b[32m━━━━━━━━━━━━━━━━━━━━\u001b[0m\u001b[37m\u001b[0m \u001b[1m0s\u001b[0m 15ms/step - accuracy: 0.0974 - loss: 2.3893 - val_accuracy: 0.0227 - val_loss: 2.5229\n",
      "Epoch 8/10\n",
      "\u001b[1m6/6\u001b[0m \u001b[32m━━━━━━━━━━━━━━━━━━━━\u001b[0m\u001b[37m\u001b[0m \u001b[1m0s\u001b[0m 15ms/step - accuracy: 0.1009 - loss: 2.3983 - val_accuracy: 0.0227 - val_loss: 2.5222\n",
      "Epoch 9/10\n",
      "\u001b[1m6/6\u001b[0m \u001b[32m━━━━━━━━━━━━━━━━━━━━\u001b[0m\u001b[37m\u001b[0m \u001b[1m0s\u001b[0m 14ms/step - accuracy: 0.1108 - loss: 2.4166 - val_accuracy: 0.0000e+00 - val_loss: 2.5215\n",
      "Epoch 10/10\n",
      "\u001b[1m6/6\u001b[0m \u001b[32m━━━━━━━━━━━━━━━━━━━━\u001b[0m\u001b[37m\u001b[0m \u001b[1m0s\u001b[0m 14ms/step - accuracy: 0.0669 - loss: 2.4099 - val_accuracy: 0.0000e+00 - val_loss: 2.5207\n"
     ]
    },
    {
     "ename": "ValueError",
     "evalue": "Data cardinality is ambiguous. Make sure all arrays contain the same number of samples.'x' sizes: 220\n'y' sizes: 93500\n",
     "output_type": "error",
     "traceback": [
      "\u001b[1;31m---------------------------------------------------------------------------\u001b[0m",
      "\u001b[1;31mValueError\u001b[0m                                Traceback (most recent call last)",
      "Input \u001b[1;32mIn [21]\u001b[0m, in \u001b[0;36m<cell line: 43>\u001b[1;34m()\u001b[0m\n\u001b[0;32m     40\u001b[0m pretrained_model\u001b[38;5;241m.\u001b[39mfit(X_preprocessed, Y, epochs\u001b[38;5;241m=\u001b[39m\u001b[38;5;241m10\u001b[39m, batch_size\u001b[38;5;241m=\u001b[39m\u001b[38;5;241m32\u001b[39m, validation_split\u001b[38;5;241m=\u001b[39m\u001b[38;5;241m0.2\u001b[39m)\n\u001b[0;32m     42\u001b[0m \u001b[38;5;66;03m# Evaluate on Vie dataset\u001b[39;00m\n\u001b[1;32m---> 43\u001b[0m accuracy \u001b[38;5;241m=\u001b[39m \u001b[43mpretrained_model\u001b[49m\u001b[38;5;241;43m.\u001b[39;49m\u001b[43mevaluate\u001b[49m\u001b[43m(\u001b[49m\u001b[43mX_preprocessed\u001b[49m\u001b[43m,\u001b[49m\u001b[43m \u001b[49m\u001b[43mY_expanded\u001b[49m\u001b[43m)\u001b[49m[\u001b[38;5;241m1\u001b[39m]\n\u001b[0;32m     44\u001b[0m \u001b[38;5;28mprint\u001b[39m(\u001b[38;5;124mf\u001b[39m\u001b[38;5;124m\"\u001b[39m\u001b[38;5;124mFine-Tuned Accuracy on Vie Dataset: \u001b[39m\u001b[38;5;132;01m{\u001b[39;00maccuracy\u001b[38;5;250m \u001b[39m\u001b[38;5;241m*\u001b[39m\u001b[38;5;250m \u001b[39m\u001b[38;5;241m100\u001b[39m\u001b[38;5;132;01m:\u001b[39;00m\u001b[38;5;124m.2f\u001b[39m\u001b[38;5;132;01m}\u001b[39;00m\u001b[38;5;124m%\u001b[39m\u001b[38;5;124m\"\u001b[39m)\n",
      "File \u001b[1;32mc:\\Users\\ryoii\\anaconda3\\lib\\site-packages\\keras\\src\\utils\\traceback_utils.py:122\u001b[0m, in \u001b[0;36mfilter_traceback.<locals>.error_handler\u001b[1;34m(*args, **kwargs)\u001b[0m\n\u001b[0;32m    119\u001b[0m     filtered_tb \u001b[38;5;241m=\u001b[39m _process_traceback_frames(e\u001b[38;5;241m.\u001b[39m__traceback__)\n\u001b[0;32m    120\u001b[0m     \u001b[38;5;66;03m# To get the full stack trace, call:\u001b[39;00m\n\u001b[0;32m    121\u001b[0m     \u001b[38;5;66;03m# `keras.config.disable_traceback_filtering()`\u001b[39;00m\n\u001b[1;32m--> 122\u001b[0m     \u001b[38;5;28;01mraise\u001b[39;00m e\u001b[38;5;241m.\u001b[39mwith_traceback(filtered_tb) \u001b[38;5;28;01mfrom\u001b[39;00m \u001b[38;5;28;01mNone\u001b[39;00m\n\u001b[0;32m    123\u001b[0m \u001b[38;5;28;01mfinally\u001b[39;00m:\n\u001b[0;32m    124\u001b[0m     \u001b[38;5;28;01mdel\u001b[39;00m filtered_tb\n",
      "File \u001b[1;32mc:\\Users\\ryoii\\anaconda3\\lib\\site-packages\\keras\\src\\trainers\\data_adapters\\data_adapter_utils.py:114\u001b[0m, in \u001b[0;36mcheck_data_cardinality\u001b[1;34m(data)\u001b[0m\n\u001b[0;32m    110\u001b[0m     sizes \u001b[38;5;241m=\u001b[39m \u001b[38;5;124m\"\u001b[39m\u001b[38;5;124m, \u001b[39m\u001b[38;5;124m\"\u001b[39m\u001b[38;5;241m.\u001b[39mjoin(\n\u001b[0;32m    111\u001b[0m         \u001b[38;5;28mstr\u001b[39m(i\u001b[38;5;241m.\u001b[39mshape[\u001b[38;5;241m0\u001b[39m]) \u001b[38;5;28;01mfor\u001b[39;00m i \u001b[38;5;129;01min\u001b[39;00m tree\u001b[38;5;241m.\u001b[39mflatten(single_data)\n\u001b[0;32m    112\u001b[0m     )\n\u001b[0;32m    113\u001b[0m     msg \u001b[38;5;241m+\u001b[39m\u001b[38;5;241m=\u001b[39m \u001b[38;5;124mf\u001b[39m\u001b[38;5;124m\"\u001b[39m\u001b[38;5;124m'\u001b[39m\u001b[38;5;132;01m{\u001b[39;00mlabel\u001b[38;5;132;01m}\u001b[39;00m\u001b[38;5;124m'\u001b[39m\u001b[38;5;124m sizes: \u001b[39m\u001b[38;5;132;01m{\u001b[39;00msizes\u001b[38;5;132;01m}\u001b[39;00m\u001b[38;5;130;01m\\n\u001b[39;00m\u001b[38;5;124m\"\u001b[39m\n\u001b[1;32m--> 114\u001b[0m \u001b[38;5;28;01mraise\u001b[39;00m \u001b[38;5;167;01mValueError\u001b[39;00m(msg)\n",
      "\u001b[1;31mValueError\u001b[0m: Data cardinality is ambiguous. Make sure all arrays contain the same number of samples.'x' sizes: 220\n'y' sizes: 93500\n"
     ]
    }
   ],
   "source": [
    "from tensorflow.keras import Sequential\n",
    "from tensorflow.keras.layers import Conv1D, MaxPooling1D, Flatten, Dense, Dropout, LSTM\n",
    "from tensorflow.keras.models import load_model\n",
    "\n",
    "# Model architecture\n",
    "def create_model(input_shape, num_classes):\n",
    "    model = Sequential([\n",
    "        Conv1D(filters=64, kernel_size=3, activation='relu', input_shape=input_shape),\n",
    "        MaxPooling1D(pool_size=2),\n",
    "        Dropout(0.3),\n",
    "        LSTM(64, return_sequences=True),\n",
    "        Flatten(),\n",
    "        Dense(128, activation='relu'),\n",
    "        Dropout(0.5),\n",
    "        Dense(num_classes, activation='softmax')\n",
    "    ])\n",
    "    model.compile(optimizer='adam', loss='sparse_categorical_crossentropy', metrics=['accuracy'])\n",
    "    return model\n",
    "\n",
    "# Input shape and classes\n",
    "input_shape = (14, 1280)  # Channels, Data Points\n",
    "num_classes = 10          # Example number of classes\n",
    "\n",
    "# Step 1: Train on Emotiv Dataset\n",
    "model = create_model(input_shape, num_classes)\n",
    "model.fit(X_emotiv, y_emotiv, epochs=20, batch_size=32, validation_split=0.2)\n",
    "model.save(\"pretrained_emotiv_model.h5\")\n",
    "\n",
    "# Step 2: Fine-Tune on Vie Dataset\n",
    "pretrained_model = load_model(\"pretrained_emotiv_model.h5\")\n",
    "\n",
    "# Optionally freeze some layers\n",
    "for layer in pretrained_model.layers[:-2]:  # Freeze all but the last 2 layers\n",
    "    layer.trainable = False\n",
    "\n",
    "# Recompile the model\n",
    "pretrained_model.compile(optimizer='adam', loss='sparse_categorical_crossentropy', metrics=['accuracy'])\n",
    "\n",
    "# Fine-tune on Vie dataset\n",
    "pretrained_model.fit(X_preprocessed, Y, epochs=10, batch_size=32, validation_split=0.2)\n",
    "\n",
    "# Evaluate on Vie dataset\n",
    "accuracy = pretrained_model.evaluate(X_preprocessed, Y)[1]\n",
    "print(f\"Fine-Tuned Accuracy on Vie Dataset: {accuracy * 100:.2f}%\")\n"
   ]
  }
 ],
 "metadata": {
  "kernelspec": {
   "display_name": "base",
   "language": "python",
   "name": "python3"
  },
  "language_info": {
   "codemirror_mode": {
    "name": "ipython",
    "version": 3
   },
   "file_extension": ".py",
   "mimetype": "text/x-python",
   "name": "python",
   "nbconvert_exporter": "python",
   "pygments_lexer": "ipython3",
   "version": "3.9.12"
  }
 },
 "nbformat": 4,
 "nbformat_minor": 2
}
