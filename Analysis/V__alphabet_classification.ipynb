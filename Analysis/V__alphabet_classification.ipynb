{
 "cells": [
  {
   "cell_type": "code",
   "execution_count": null,
   "metadata": {},
   "outputs": [],
   "source": [
    "# import libraries\n",
    "import numpy as np\n",
    "import pandas as pd\n",
    "import seaborn as sns\n",
    "import os\n",
    "import mne\n",
    "from sklearn.preprocessing import StandardScaler\n",
    "from sklearn.ensemble import RandomForestClassifier\n",
    "from sklearn.model_selection import train_test_split\n",
    "from sklearn.metrics import accuracy_score,confusion_matrix\n",
    "import tensorflow\n",
    "from tensorflow.keras.models import Sequential, Model, load_model\n",
    "from tensorflow.keras.utils import plot_model, to_categorical\n",
    "from tensorflow.keras.layers import Dense, Activation, Conv1D, MaxPooling1D, GlobalAveragePooling1D, Flatten, Dropout, BatchNormalization, Input,UpSampling1D\n",
    "from tensorflow.keras.layers import concatenate, Lambda, Conv2D, MaxPooling2D, GlobalAveragePooling2D,LSTM\n",
    "from tensorflow.keras import backend as K\n",
    "from tensorflow.keras.callbacks import EarlyStopping"
   ]
  },
  {
   "cell_type": "code",
   "execution_count": null,
   "metadata": {},
   "outputs": [],
   "source": [
    "# path config\n",
    "parent_dir = os.path.dirname(os.getcwd())\n",
    "fo = os.path.join(parent_dir, 'data', 'Vie2Image', 'Char')\n",
    "os.chdir(parent_dir)\n",
    "print(\"Updated Working Directory: \", os.getcwd())"
   ]
  },
  {
   "cell_type": "code",
   "execution_count": 3,
   "metadata": {},
   "outputs": [],
   "source": [
    "from __00_load_csv import load_alphabet\n",
    "from __01_transform_data import transform_eeg_data, process_band, MA_X, MA_X2\n",
    "from __02_model import train, visualize\n",
    "from __03_utils import plot_eeg, downsample, plot_eeg_1280"
   ]
  },
  {
   "cell_type": "code",
   "execution_count": null,
   "metadata": {},
   "outputs": [],
   "source": [
    "# load raw data\n",
    "x, Y = load_alphabet(fo)\n",
    "X = downsample(x)\n",
    "print(f'shape of X : {X.shape}')\n",
    "print(f'shape of Y : {Y.shape}')"
   ]
  },
  {
   "cell_type": "code",
   "execution_count": null,
   "metadata": {},
   "outputs": [],
   "source": [
    "# reshape data\n",
    "dataset_type = 'alphabet'\n",
    "\n",
    "\n",
    "X_new, Y_new = transform_eeg_data(X, Y)\n",
    "print(f'shape of X_new : {X_new.shape}')\n",
    "print(f'shape of Y_new : {Y_new.shape}')\n",
    "plot_eeg(X_new)"
   ]
  },
  {
   "cell_type": "code",
   "execution_count": 6,
   "metadata": {},
   "outputs": [],
   "source": [
    "# RAW data\n",
    "model = train(X_new, Y_new, dataset_type=dataset_type, epochs=500)\n",
    "visualize(model, X_new, Y_new, dataset_type=dataset_type)"
   ]
  },
  {
   "cell_type": "code",
   "execution_count": null,
   "metadata": {},
   "outputs": [],
   "source": [
    "# # #  Moving Average filter\n",
    "# X_filtered = MA_X(X_new, axis=1, M=3)\n",
    "\n",
    "\n",
    "# model = train(X_filtered, Y_new, dataset_type=dataset_type, epochs=500)"
   ]
  },
  {
   "cell_type": "code",
   "execution_count": null,
   "metadata": {},
   "outputs": [],
   "source": [
    "# # #  Moving Average filter\n",
    "# X_filtered = MA_X2(X_new, axis=1, M=3)\n",
    "\n",
    "\n",
    "# model = train(X_filtered, Y_new, dataset_type=dataset_type, epochs=500)"
   ]
  }
 ],
 "metadata": {
  "kernelspec": {
   "display_name": "base",
   "language": "python",
   "name": "python3"
  },
  "language_info": {
   "codemirror_mode": {
    "name": "ipython",
    "version": 3
   },
   "file_extension": ".py",
   "mimetype": "text/x-python",
   "name": "python",
   "nbconvert_exporter": "python",
   "pygments_lexer": "ipython3",
   "version": "3.9.12"
  }
 },
 "nbformat": 4,
 "nbformat_minor": 2
}
